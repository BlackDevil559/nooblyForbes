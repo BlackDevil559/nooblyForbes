{
 "cells": [
  {
   "cell_type": "code",
   "execution_count": 1,
   "metadata": {},
   "outputs": [],
   "source": [
    "from pytube import Playlist\n",
    "from youtube_transcript_api import YouTubeTranscriptApi "
   ]
  },
  {
   "cell_type": "code",
   "execution_count": 2,
   "metadata": {},
   "outputs": [],
   "source": [
    "STOCK_NAMES = [\n",
    "    \"Reliance\", \"TCS\", \"HDFC\", \"Bharti Airtel\", \"ICICI\", \n",
    "    \"Infosys\", \"HUL\", \"SBI\", \"ITC\", \"LIC India\"\n",
    "]"
   ]
  },
  {
   "cell_type": "code",
   "execution_count": 3,
   "metadata": {},
   "outputs": [],
   "source": [
    "NDTV_Profit = Playlist(\"https://www.youtube.com/playlist?list=PLHQtHjXocftcYYP0b3fd8gUFwCGZsE6C4\")\n",
    "CNBC_TV_18 = Playlist(\"https://www.youtube.com/playlist?list=PLjq9mRS1PfGCFov0hYIP-5XwQoAGHt2TR\")\n",
    "Lists = [NDTV_Profit, CNBC_TV_18]"
   ]
  },
  {
   "cell_type": "code",
   "execution_count": 12,
   "metadata": {},
   "outputs": [],
   "source": [
    "from datetime import datetime, timedelta\n",
    "from pytube import Playlist, YouTube\n",
    "from youtube_transcript_api import YouTubeTranscriptApi\n",
    "\n",
    "def filter_videos_by_date(playlist, days_old=1, max_videos=10):\n",
    "    recent_videos = []\n",
    "    one_day_ago = datetime.now() - timedelta(days=days_old)\n",
    "    \n",
    "    for idx, video_url in enumerate(playlist):\n",
    "        if idx >= max_videos:\n",
    "            break  # Stop if we have reached the max limit of videos to process\n",
    "        \n",
    "        try:\n",
    "            yt = YouTube(video_url)\n",
    "            if yt.publish_date >= one_day_ago:\n",
    "                recent_videos.append(video_url)\n",
    "        except Exception as e:\n",
    "            print(f\"Error processing video {video_url}: {e}\")\n",
    "    \n",
    "    return recent_videos\n",
    "\n",
    "# Function to fetch transcripts and filter by stock names\n",
    "def get_relevant_transcripts(playlist_list, stock_names, max_videos_per_playlist=10):\n",
    "    transcripts = []\n",
    "    \n",
    "    for playlist in playlist_list:\n",
    "        recent_videos = filter_videos_by_date(playlist, max_videos=max_videos_per_playlist)\n",
    "        for video_url in recent_videos:\n",
    "            video_id = video_url.split(\"v=\")[-1]\n",
    "            try:\n",
    "                transcript = YouTubeTranscriptApi.get_transcript(video_id)\n",
    "                transcript_text = \" \".join(segment['text'] for segment in transcript)\n",
    "                transcripts.append(transcript_text)\n",
    "                \n",
    "                # Check if transcript mentions any of the specified stocks\n",
    "                # if any(stock.lower() in transcript_text.lower() for stock in stock_names):\n",
    "                #     if transcript_text not in transcripts:  # Avoid duplicates\n",
    "                #         transcripts.append(transcript_text)\n",
    "            except Exception as e:\n",
    "                print(f\"No transcript found for video ID {video_id}: {e}\")\n",
    "    \n",
    "    return transcripts"
   ]
  },
  {
   "cell_type": "code",
   "execution_count": 13,
   "metadata": {},
   "outputs": [
    {
     "name": "stdout",
     "output_type": "stream",
     "text": [
      "No transcript found for video ID vOPPUnEMadQ: \n",
      "Could not retrieve a transcript for the video https://www.youtube.com/watch?v=vOPPUnEMadQ! This is most likely caused by:\n",
      "\n",
      "Subtitles are disabled for this video\n",
      "\n",
      "If you are sure that the described cause is not responsible for this error and that a transcript should be retrievable, please create an issue at https://github.com/jdepoix/youtube-transcript-api/issues. Please add which version of youtube_transcript_api you are using and provide the information needed to replicate the error. Also make sure that there are no open issues which already describe your problem!\n",
      "No transcript found for video ID T_ngatTo6Dk: \n",
      "Could not retrieve a transcript for the video https://www.youtube.com/watch?v=T_ngatTo6Dk! This is most likely caused by:\n",
      "\n",
      "Subtitles are disabled for this video\n",
      "\n",
      "If you are sure that the described cause is not responsible for this error and that a transcript should be retrievable, please create an issue at https://github.com/jdepoix/youtube-transcript-api/issues. Please add which version of youtube_transcript_api you are using and provide the information needed to replicate the error. Also make sure that there are no open issues which already describe your problem!\n"
     ]
    }
   ],
   "source": [
    "NDTV_Transcript = get_relevant_transcripts(Lists, STOCK_NAMES)\n"
   ]
  },
  {
   "cell_type": "code",
   "execution_count": 15,
   "metadata": {},
   "outputs": [
    {
     "name": "stderr",
     "output_type": "stream",
     "text": [
      "c:\\Users\\sattu\\Desktop\\Projects\\nooblyForbes\\venv\\Lib\\site-packages\\tqdm\\auto.py:21: TqdmWarning: IProgress not found. Please update jupyter and ipywidgets. See https://ipywidgets.readthedocs.io/en/stable/user_install.html\n",
      "  from .autonotebook import tqdm as notebook_tqdm\n"
     ]
    },
    {
     "name": "stdout",
     "output_type": "stream",
     "text": [
      "{\"Infosys\": \"The street is expecting a strong revenue growth for Infosys, with dollar revenue growth projected at 3.6% and constant currency revenue growth at 3%. This positive outlook is based on Infosys's recent outperformance of its peers and the anticipation of a guidance upgrade. Analysts believe that the company will raise its current revenue guidance from 3-4%. Key factors driving this optimism include strong revenue growth ahead of peers and a positive outlook for the BFSI sector, which constitutes a significant portion of Infosys's revenue.\"}\n",
      "\n"
     ]
    }
   ],
   "source": [
    "import os\n",
    "import dotenv\n",
    "import google.generativeai as genai\n",
    "\n",
    "# Load environment variables from .env file\n",
    "dotenv.load_dotenv()\n",
    "api_key = os.getenv(\"GEMINI_API_KEY\")\n",
    "\n",
    "if not api_key:\n",
    "    raise ValueError(\"GEMINI_API_KEY not found in environment variables\")\n",
    "\n",
    "genai.configure(api_key=api_key)\n",
    "\n",
    "generation_config = {\n",
    "    \"temperature\": 1,\n",
    "    \"top_p\": 0.95,\n",
    "    \"top_k\": 64,\n",
    "    \"max_output_tokens\": 8192,\n",
    "    \"response_mime_type\": \"application/json\",\n",
    "}\n",
    "\n",
    "model = genai.GenerativeModel(\n",
    "    model_name=\"gemini-1.5-pro\",\n",
    "    generation_config=generation_config,\n",
    "    system_instruction=\"Summarize only the relevant information about the specified stock names.\"\n",
    ")\n",
    "\n",
    "# Use Generative AI to summarize\n",
    "response = model.start_chat(\n",
    "    history=[\n",
    "        {\n",
    "            \"role\": \"user\",\n",
    "            \"parts\": [\n",
    "                f\"Summarize the following transcript texts, focusing only on mentions of {', '.join(STOCK_NAMES)}:\\n{NDTV_Transcript[:5]}\"\n",
    "            ],\n",
    "        }\n",
    "    ]\n",
    ").send_message(NDTV_Transcript)\n",
    "\n",
    "print(response.text)"
   ]
  },
  {
   "cell_type": "code",
   "execution_count": 116,
   "metadata": {},
   "outputs": [
    {
     "data": {
      "text/plain": [
       "'{\"stock_name\": \"Sundaram Finance\", \"summary\": \"The stock price of Sundaram Finance increased by 5.12%.\"},\\n{\"stock_name\": \"Gold Finance\", \"summary\": \"The stock price of Gold Finance increased by 5%.\"},\\n{\"stock_name\": \"NBCC\", \"summary\": \"The stock price of NBCC increased by 6%. The increase was likely due to positive discussions surrounding PSU stocks.\"},\\n{\"stock_name\": \"Westlife Food\", \"summary\": \"The stock price of Westlife Food increased by 6%. This followed discussions about their QSRs with Mangalam.\"},\\n{\"stock_name\": \"Ruka\", \"summary\": \"The stock price of Ruka increased by 10%. The increase is attributed to positive market sentiment and potentially favorable policy announcements in the sugar industry.\"},\\n{\"stock_name\": \"Power Grid Corporation of India\", \"summary\": \"Power Grid Corporation of India\\'s stock price experienced downward pressure, contributing to the red color on the Nifty index.\"},\\n{\"stock_name\": \"Bajaj Auto\", \"summary\": \"Bajaj Auto\\'s stock performed well and was categorized among the large-cap winners.\"},\\n{\"stock_name\": \"M&M\", \"summary\": \"M&M\\'s stock performed well and was categorized among the large-cap winners.\"},\\n{\"stock_name\": \"BTI\", \"summary\": \"BTI\\'s stock performed well and was categorized among the large-cap winners.\"},\\n{\"stock_name\": \"Zomato\", \"summary\": \"Zomato\\'s stock experienced a decline of 36% and was among the momentum stocks that lost momentum.\"},\\n{\"stock_name\": \"Oil India\", \"summary\": \"Oil India\\'s stock price decreased, placing it among the large-cap losers.\"},\\n{\"stock_name\": \"Bharat Dynamics\", \"summary\": \"The stock price of Bharat Dynamics experienced a decline, attributed to the broader downward trend in defense stocks.\"},\\n{\"stock_name\": \"Pangali Foods\", \"summary\": \"Pangali Foods\\' stock was among the losers, experiencing a decline in price.\"},\\n{\"stock_name\": \"Indus Towers\", \"summary\": \"Indus Towers\\' stock experienced a decline in price, placing it among the large-cap losers.\"},\\n{\"stock_name\": \"Sun Pharma\", \"summary\": \"Sun Pharma\\'s stock rose by approximately 3% following the presentation of positive clinical data on their drug, Lex SV, used to treat severe alopecia. The data suggests the drug improved hair satisfaction in over 95% of patients.\"},\\n{\"stock_name\": \"Sequent Scientific\", \"summary\": \"Sequent Scientific\\'s stock showed strong gains following their announced merger with Vash Life Sciences. The merger is expected to be margin accretive.\"},\\n{\"stock_name\": \"Vash Life Sciences\", \"summary\": \"Vash Life Sciences\\' stock showed strong gains following their announced merger with Sequent Scientific. Vash Life Sciences boasts a 17% margin compared to Sequent Scientific\\'s 12.7%.\"},\\n{\"stock_name\": \"Gland Pharma\", \"summary\": \"Goldman Sachs downgraded Gland Pharma to a sell rating and reduced their target price to ₹1500. They cite headwinds to the company\\'s profitability and have cut their EPS estimates by 17-20%.\"},\\n{\"stock_name\": \"Newland\", \"summary\": \"Newland\\'s stock is under scrutiny as it is predicted to become an API supplier for a newly FDA-approved Bristol Myers Squibb drug for schizophrenia. This drug is estimated to generate around $2.5 billion in US sales by 2030.\"},\\n{\"stock_name\": \"Wari Energies\", \"summary\": \"Wari Energies is preparing for a public listing and is reportedly in talks to acquire ENL India\\'s renewable energy arm, ENL India Green Power Company, to expand its portfolio in the renewable energy sector. They face competition from JSW Energy for this acquisition.\"}\\n'"
      ]
     },
     "execution_count": 116,
     "metadata": {},
     "output_type": "execute_result"
    }
   ],
   "source": [
    "response.text"
   ]
  },
  {
   "cell_type": "code",
   "execution_count": 119,
   "metadata": {},
   "outputs": [],
   "source": [
    "from fastapi import FastAPI, HTTPException\n",
    "import requests\n",
    "import uvicorn\n",
    "import nest_asyncio\n",
    "import json\n",
    "app = FastAPI()\n",
    "@app.get(\"/get-summary\")\n",
    "def get_summary():\n",
    "    response_text = f'[{response.text}]'\n",
    "    return json.loads(response_text)"
   ]
  },
  {
   "cell_type": "code",
   "execution_count": 120,
   "metadata": {},
   "outputs": [
    {
     "name": "stderr",
     "output_type": "stream",
     "text": [
      "INFO:     Started server process [16320]\n",
      "INFO:     Waiting for application startup.\n",
      "INFO:     Application startup complete.\n",
      "INFO:     Uvicorn running on http://0.0.0.0:8001 (Press CTRL+C to quit)\n"
     ]
    },
    {
     "name": "stdout",
     "output_type": "stream",
     "text": [
      "INFO:     172.16.5.116:60655 - \"GET /get-summary HTTP/1.1\" 200 OK\n",
      "INFO:     172.16.5.116:60687 - \"GET /get-summary HTTP/1.1\" 200 OK\n",
      "INFO:     127.0.0.1:55523 - \"GET /get-summary HTTP/1.1\" 200 OK\n",
      "INFO:     127.0.0.1:55523 - \"GET /favicon.ico HTTP/1.1\" 404 Not Found\n",
      "INFO:     172.16.5.116:57721 - \"GET /get-summary HTTP/1.1\" 200 OK\n",
      "INFO:     172.16.5.116:57721 - \"GET /favicon.ico HTTP/1.1\" 404 Not Found\n",
      "INFO:     172.16.5.116:57734 - \"GET /docs HTTP/1.1\" 200 OK\n",
      "INFO:     172.16.5.116:57734 - \"GET /openapi.json HTTP/1.1\" 200 OK\n",
      "INFO:     172.16.5.116:58290 - \"GET /get-summary HTTP/1.1\" 200 OK\n"
     ]
    },
    {
     "name": "stderr",
     "output_type": "stream",
     "text": [
      "INFO:     Shutting down\n",
      "INFO:     Waiting for application shutdown.\n",
      "INFO:     Application shutdown complete.\n",
      "INFO:     Finished server process [16320]\n"
     ]
    }
   ],
   "source": [
    "\n",
    "nest_asyncio.apply()\n",
    "if __name__ == \"__main__\":\n",
    "    uvicorn.run(app, host=\"0.0.0.0\", port=8001)"
   ]
  },
  {
   "cell_type": "code",
   "execution_count": null,
   "metadata": {},
   "outputs": [],
   "source": []
  },
  {
   "cell_type": "code",
   "execution_count": null,
   "metadata": {},
   "outputs": [],
   "source": []
  },
  {
   "cell_type": "code",
   "execution_count": null,
   "metadata": {},
   "outputs": [],
   "source": []
  }
 ],
 "metadata": {
  "kernelspec": {
   "display_name": "venv",
   "language": "python",
   "name": "python3"
  },
  "language_info": {
   "codemirror_mode": {
    "name": "ipython",
    "version": 3
   },
   "file_extension": ".py",
   "mimetype": "text/x-python",
   "name": "python",
   "nbconvert_exporter": "python",
   "pygments_lexer": "ipython3",
   "version": "3.11.0"
  }
 },
 "nbformat": 4,
 "nbformat_minor": 2
}
