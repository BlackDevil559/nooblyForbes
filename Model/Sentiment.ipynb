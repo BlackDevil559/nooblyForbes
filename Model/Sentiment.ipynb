{
 "cells": [
  {
   "cell_type": "code",
   "execution_count": 3,
   "metadata": {},
   "outputs": [
    {
     "name": "stderr",
     "output_type": "stream",
     "text": [
      "No model was supplied, defaulted to distilbert/distilbert-base-uncased-finetuned-sst-2-english and revision 714eb0f (https://huggingface.co/distilbert/distilbert-base-uncased-finetuned-sst-2-english).\n",
      "Using a pipeline without specifying a model name and revision in production is not recommended.\n"
     ]
    }
   ],
   "source": [
    "from transformers import pipeline\n",
    "import requests\n",
    "sentiment_pipeline = pipeline(\"sentiment-analysis\")"
   ]
  },
  {
   "cell_type": "code",
   "execution_count": 5,
   "metadata": {},
   "outputs": [
    {
     "name": "stdout",
     "output_type": "stream",
     "text": [
      "Average sentiment of news from AlphaVantage: 0.13\n",
      "Average sentiment of news from CNBC: -0.19\n",
      "No valid news found for Marketaux or encountered an error.\n",
      "Average sentiment of news from NewsAPI: -0.44\n",
      "Average sentiment of news from Reuters: -0.99\n"
     ]
    }
   ],
   "source": [
    "# Sample API URL\n",
    "api_url = \"http://127.0.0.1:8000/get-news?stock=Amazon\"\n",
    "\n",
    "# Fetch the news data from the API\n",
    "response = requests.get(api_url)\n",
    "\n",
    "# Parse the JSON response\n",
    "news_data = response.json()\n",
    "\n",
    "# Function to calculate the average sentiment score\n",
    "def calculate_average_sentiment(news_list):\n",
    "    total_score = 0\n",
    "    count = 0\n",
    "\n",
    "    for news in news_list:\n",
    "        # Get the sentiment analysis result for each headline\n",
    "        result = sentiment_pipeline(news)\n",
    "        \n",
    "        # Extract the sentiment score (positive = 1, negative = -1, neutral = 0)\n",
    "        sentiment = result[0]['label']\n",
    "        score = result[0]['score']\n",
    "\n",
    "        # Adjust sentiment score based on label (assumes positive, neutral, negative)\n",
    "        if sentiment == 'NEGATIVE':\n",
    "            score = -score\n",
    "\n",
    "        total_score += score\n",
    "        count += 1\n",
    "\n",
    "    if count == 0:\n",
    "        return 0  # Avoid division by zero\n",
    "\n",
    "    return total_score / count\n",
    "\n",
    "# Iterate over the news sources and calculate the average sentiment score\n",
    "for source, news_list in news_data.items():\n",
    "    # Check if there are actual news articles and not error messages\n",
    "    if isinstance(news_list, list) and news_list and \"Error\" not in news_list[0]:\n",
    "        avg_sentiment = calculate_average_sentiment(news_list)\n",
    "        print(f\"Average sentiment of news from {source}: {avg_sentiment:.2f}\")\n",
    "    else:\n",
    "        print(f\"No valid news found for {source} or encountered an error.\")"
   ]
  },
  {
   "cell_type": "code",
   "execution_count": null,
   "metadata": {},
   "outputs": [],
   "source": []
  }
 ],
 "metadata": {
  "kernelspec": {
   "display_name": "venv",
   "language": "python",
   "name": "python3"
  },
  "language_info": {
   "codemirror_mode": {
    "name": "ipython",
    "version": 3
   },
   "file_extension": ".py",
   "mimetype": "text/x-python",
   "name": "python",
   "nbconvert_exporter": "python",
   "pygments_lexer": "ipython3",
   "version": "3.10.8"
  }
 },
 "nbformat": 4,
 "nbformat_minor": 2
}
