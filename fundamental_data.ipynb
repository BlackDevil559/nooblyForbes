{
 "cells": [
  {
   "cell_type": "code",
   "execution_count": 9,
   "metadata": {},
   "outputs": [],
   "source": [
    "import yfinance as yf\n",
    "import pandas as pd\n",
    "from datetime import datetime, timedelta\n"
   ]
  },
  {
   "cell_type": "code",
   "execution_count": 10,
   "metadata": {},
   "outputs": [],
   "source": [
    "\n",
    "stock_symbols = [\n",
    "    \"RELIANCE.NS\", \"TCS.NS\", \"HDFCBANK.NS\", \"BHARTIARTL.NS\", \"ICICIBANK.NS\", \n",
    "    \"INFY.NS\", \"HINDUNILVR.NS\", \"SBIN.NS\", \"ITC.NS\", \"LICI.NS\"\n",
    "]\n",
    "\n",
    "# stock_symbols = [\"HDFCBANK.NS\"]\n"
   ]
  },
  {
   "cell_type": "code",
   "execution_count": 11,
   "metadata": {},
   "outputs": [],
   "source": [
    "end_date = datetime.now()\n",
    "start_date = end_date - timedelta(days=3*365)"
   ]
  },
  {
   "cell_type": "code",
   "execution_count": 12,
   "metadata": {},
   "outputs": [
    {
     "name": "stdout",
     "output_type": "stream",
     "text": [
      "Book Value of TCS:  605.573\n",
      "605.573\n"
     ]
    }
   ],
   "source": [
    "import json\n",
    "\n",
    "book_value_tcs = yf.Ticker(stock_symbols[0]).info[\"bookValue\"]\n",
    "print(\"Book Value of TCS: \", book_value_tcs)\n",
    "# Print the book value information in a formatted way\n",
    "print(json.dumps(book_value_tcs, indent=4))"
   ]
  },
  {
   "cell_type": "code",
   "execution_count": 13,
   "metadata": {},
   "outputs": [],
   "source": [
    "hdfc_book_value = [576.01,500.26,432.36,369.54]\n",
    "hdfc_eps = [80.05, 79.05, 66.65, 56.44]\n",
    "reliance_book_value = [585.80, 528.54, 575.80, 511.71]\n",
    "reliance_eps = [51.45,49.29,44.87,38.11]\n",
    "tcs_book_value = [198.29,203.28,209.27,199.67]\n",
    "tcs_eps = [120.33,106.85,104.34,83.68]\n",
    "icici_book_value = [358.32,301.66,256.96,223.34]\n",
    "icici_eps = [63.02,48.74,36.14,26.58]\n",
    "bharti_book_value = [142.20, 136.41, 118.88, 105.16]\n",
    "bharti_eps = [12.98, 14.71, 7.61, -26.95]\n",
    "infy_book_value = [193.40, 161.20, 163.34, 167.04]\n",
    "infy_eps = [65.62,56.09,50.49,42.37]\n",
    "hindunilvr_book_value = [216.91, 213.71, 207.49, 201.83]\n",
    "hindunilvr_eps = [43.04,42.39,37.52,33.85]\n",
    "sbin_book_value = [391.83,335.98,287.64,258.05]\n",
    "sbin_eps = [68.44, 56.29, 35.49, 22.87]\n",
    "itc_book_value = [57.45, 53.79, 48.76, 46.55]\n",
    "itc_eps = [16.36, 15.09, 12.22, 10.59]\n",
    "lici_book_value = [131.37,73.59,17.96,10.91]\n",
    "lici_eps = [64.69,56.91,6.52,4.70]\n",
    "\n",
    "\n",
    "\n"
   ]
  },
  {
   "cell_type": "code",
   "execution_count": 14,
   "metadata": {},
   "outputs": [
    {
     "name": "stdout",
     "output_type": "stream",
     "text": [
      "Data for RELIANCE.NS saved to RELIANCE.NS_financial_data.csv\n",
      "Data for TCS.NS saved to TCS.NS_financial_data.csv\n",
      "Data for HDFCBANK.NS saved to HDFCBANK.NS_financial_data.csv\n",
      "Data for BHARTIARTL.NS saved to BHARTIARTL.NS_financial_data.csv\n",
      "Data for ICICIBANK.NS saved to ICICIBANK.NS_financial_data.csv\n",
      "Data for INFY.NS saved to INFY.NS_financial_data.csv\n",
      "Data for HINDUNILVR.NS saved to HINDUNILVR.NS_financial_data.csv\n",
      "Data for SBIN.NS saved to SBIN.NS_financial_data.csv\n",
      "Data for ITC.NS saved to ITC.NS_financial_data.csv\n",
      "Data for LICI.NS saved to LICI.NS_financial_data.csv\n"
     ]
    }
   ],
   "source": [
    "\n",
    "# Define a dictionary to map stock symbols to their respective EPS and Book Value lists\n",
    "eps_book_value_data = {\n",
    "    \"HDFCBANK.NS\": (hdfc_eps, hdfc_book_value),\n",
    "    \"RELIANCE.NS\": (reliance_eps, reliance_book_value),\n",
    "    \"TCS.NS\": (tcs_eps, tcs_book_value),\n",
    "    \"ICICIBANK.NS\": (icici_eps, icici_book_value),\n",
    "    \"BHARTIARTL.NS\": (bharti_eps, bharti_book_value),\n",
    "    \"INFY.NS\": (infy_eps, infy_book_value),\n",
    "    \"HINDUNILVR.NS\": (hindunilvr_eps, hindunilvr_book_value),\n",
    "    \"SBIN.NS\": (sbin_eps, sbin_book_value),\n",
    "    \"ITC.NS\": (itc_eps, itc_book_value),\n",
    "    \"LICI.NS\": (lici_eps, lici_book_value)\n",
    "}\n",
    "\n",
    "def fetch_stock_data(symbol):\n",
    "    # Fetch historical data\n",
    "    stock = yf.Ticker(symbol)\n",
    "    data = stock.history(start=start_date.strftime('%Y-%m-%d'), end=end_date.strftime('%Y-%m-%d'))\n",
    "\n",
    "    # Add additional fields\n",
    "    data['Symbol'] = symbol\n",
    "\n",
    "    # Get the EPS and Book Value lists for the symbol\n",
    "    eps_list, book_value_list = eps_book_value_data.get(symbol, ([], []))\n",
    "\n",
    "    # Determine the nearest EPS and Book Value based on the date\n",
    "    data['EPS'] = data.index.map(lambda date: eps_list[0] if date.year == 2024 else \n",
    "                                    eps_list[1] if date.year == 2023 else \n",
    "                                    eps_list[2] if date.year == 2022 else \n",
    "                                    eps_list[3] if date.year == 2021 else None)\n",
    "    data['Book Value'] = data.index.map(lambda date: book_value_list[0] if date.year == 2024 else \n",
    "                                        book_value_list[1] if date.year == 2023 else \n",
    "                                        book_value_list[2] if date.year == 2022 else \n",
    "                                        book_value_list[3] if date.year == 2021 else None)\n",
    "\n",
    "    # Calculate P/E and P/B ratios if EPS and Book Value are available\n",
    "    data['P/E Ratio'] = data['Close'] / data['EPS']\n",
    "    data['P/B Ratio'] = data['Close'] / data['Book Value']\n",
    "\n",
    "    # Select and rename columns\n",
    "    data = data[['Symbol', 'Open', 'High', 'Low', 'Close', 'Volume', 'P/E Ratio', 'P/B Ratio']]\n",
    "    data.columns = ['Symbol', 'Opening Price', 'Highest Price', 'Lowest Price', 'Closing Price', 'Volume of Trade', 'P/E Ratio', 'P/B Ratio']\n",
    "\n",
    "    # Save to CSV\n",
    "    csv_filename = f\"{symbol}_financial_data.csv\"\n",
    "    data.to_csv(csv_filename)\n",
    "    print(f\"Data for {symbol} saved to {csv_filename}\")\n",
    "\n",
    "# Fetch data for each stock symbol\n",
    "for symbol in stock_symbols:\n",
    "    fetch_stock_data(symbol)"
   ]
  },
  {
   "cell_type": "code",
   "execution_count": null,
   "metadata": {},
   "outputs": [
    {
     "data": {
      "text/html": [
       "<div>\n",
       "<style scoped>\n",
       "    .dataframe tbody tr th:only-of-type {\n",
       "        vertical-align: middle;\n",
       "    }\n",
       "\n",
       "    .dataframe tbody tr th {\n",
       "        vertical-align: top;\n",
       "    }\n",
       "\n",
       "    .dataframe thead th {\n",
       "        text-align: right;\n",
       "    }\n",
       "</style>\n",
       "<table border=\"1\" class=\"dataframe\">\n",
       "  <thead>\n",
       "    <tr style=\"text-align: right;\">\n",
       "      <th></th>\n",
       "      <th>Open</th>\n",
       "      <th>High</th>\n",
       "      <th>Low</th>\n",
       "      <th>Close</th>\n",
       "      <th>Volume</th>\n",
       "      <th>Dividends</th>\n",
       "      <th>Stock Splits</th>\n",
       "    </tr>\n",
       "    <tr>\n",
       "      <th>Date</th>\n",
       "      <th></th>\n",
       "      <th></th>\n",
       "      <th></th>\n",
       "      <th></th>\n",
       "      <th></th>\n",
       "      <th></th>\n",
       "      <th></th>\n",
       "    </tr>\n",
       "  </thead>\n",
       "  <tbody>\n",
       "    <tr>\n",
       "      <th>2021-11-11 00:00:00+05:30</th>\n",
       "      <td>1152.658008</td>\n",
       "      <td>1166.475961</td>\n",
       "      <td>1150.615905</td>\n",
       "      <td>1159.238037</td>\n",
       "      <td>10722478</td>\n",
       "      <td>0.0</td>\n",
       "      <td>0.0</td>\n",
       "    </tr>\n",
       "    <tr>\n",
       "      <th>2021-11-12 00:00:00+05:30</th>\n",
       "      <td>1163.027167</td>\n",
       "      <td>1179.295691</td>\n",
       "      <td>1160.349735</td>\n",
       "      <td>1176.731689</td>\n",
       "      <td>8712341</td>\n",
       "      <td>0.0</td>\n",
       "      <td>0.0</td>\n",
       "    </tr>\n",
       "    <tr>\n",
       "      <th>2021-11-15 00:00:00+05:30</th>\n",
       "      <td>1179.862731</td>\n",
       "      <td>1180.861156</td>\n",
       "      <td>1166.248954</td>\n",
       "      <td>1169.788574</td>\n",
       "      <td>4803269</td>\n",
       "      <td>0.0</td>\n",
       "      <td>0.0</td>\n",
       "    </tr>\n",
       "    <tr>\n",
       "      <th>2021-11-16 00:00:00+05:30</th>\n",
       "      <td>1167.179255</td>\n",
       "      <td>1168.517971</td>\n",
       "      <td>1132.214564</td>\n",
       "      <td>1142.606445</td>\n",
       "      <td>11337581</td>\n",
       "      <td>0.0</td>\n",
       "      <td>0.0</td>\n",
       "    </tr>\n",
       "    <tr>\n",
       "      <th>2021-11-17 00:00:00+05:30</th>\n",
       "      <td>1134.006904</td>\n",
       "      <td>1134.006904</td>\n",
       "      <td>1116.785449</td>\n",
       "      <td>1118.146851</td>\n",
       "      <td>10202029</td>\n",
       "      <td>0.0</td>\n",
       "      <td>0.0</td>\n",
       "    </tr>\n",
       "  </tbody>\n",
       "</table>\n",
       "</div>"
      ],
      "text/plain": [
       "                                  Open         High          Low        Close  \\\n",
       "Date                                                                            \n",
       "2021-11-11 00:00:00+05:30  1152.658008  1166.475961  1150.615905  1159.238037   \n",
       "2021-11-12 00:00:00+05:30  1163.027167  1179.295691  1160.349735  1176.731689   \n",
       "2021-11-15 00:00:00+05:30  1179.862731  1180.861156  1166.248954  1169.788574   \n",
       "2021-11-16 00:00:00+05:30  1167.179255  1168.517971  1132.214564  1142.606445   \n",
       "2021-11-17 00:00:00+05:30  1134.006904  1134.006904  1116.785449  1118.146851   \n",
       "\n",
       "                             Volume  Dividends  Stock Splits  \n",
       "Date                                                          \n",
       "2021-11-11 00:00:00+05:30  10722478        0.0           0.0  \n",
       "2021-11-12 00:00:00+05:30   8712341        0.0           0.0  \n",
       "2021-11-15 00:00:00+05:30   4803269        0.0           0.0  \n",
       "2021-11-16 00:00:00+05:30  11337581        0.0           0.0  \n",
       "2021-11-17 00:00:00+05:30  10202029        0.0           0.0  "
      ]
     },
     "execution_count": 34,
     "metadata": {},
     "output_type": "execute_result"
    }
   ],
   "source": [
    "stock = yf.Ticker(\"RELIANCE.NS\")\n",
    "data = stock.history(start=start_date.strftime('%Y-%m-%d'), end=end_date.strftime('%Y-%m-%d'))\n"
   ]
  },
  {
   "cell_type": "code",
   "execution_count": 2,
   "metadata": {},
   "outputs": [
    {
     "name": "stdout",
     "output_type": "stream",
     "text": [
      "Collecting eodhd\n",
      "  Downloading eodhd-1.0.31-py3-none-any.whl (30 kB)\n",
      "Requirement already satisfied: websockets>=11.0.3 in c:\\users\\sattu\\desktop\\projects\\nooblyforbes\\venv\\lib\\site-packages (from eodhd) (13.0.1)\n",
      "Collecting websocket-client>=1.6.3\n",
      "  Downloading websocket_client-1.8.0-py3-none-any.whl (58 kB)\n",
      "     ---------------------------------------- 58.8/58.8 kB 3.0 MB/s eta 0:00:00\n",
      "Requirement already satisfied: requests>=2.31.0 in c:\\users\\sattu\\desktop\\projects\\nooblyforbes\\venv\\lib\\site-packages (from eodhd) (2.32.3)\n",
      "Requirement already satisfied: rich>=13.5.2 in c:\\users\\sattu\\desktop\\projects\\nooblyforbes\\venv\\lib\\site-packages (from eodhd) (13.8.0)\n",
      "Requirement already satisfied: pandas>=2.1.0 in c:\\users\\sattu\\desktop\\projects\\nooblyforbes\\venv\\lib\\site-packages (from eodhd) (2.2.2)\n",
      "Requirement already satisfied: numpy>=1.25.2 in c:\\users\\sattu\\desktop\\projects\\nooblyforbes\\venv\\lib\\site-packages (from eodhd) (2.0.2)\n",
      "Requirement already satisfied: matplotlib>=3.7.2 in c:\\users\\sattu\\desktop\\projects\\nooblyforbes\\venv\\lib\\site-packages (from eodhd) (3.9.2)\n",
      "Requirement already satisfied: contourpy>=1.0.1 in c:\\users\\sattu\\desktop\\projects\\nooblyforbes\\venv\\lib\\site-packages (from matplotlib>=3.7.2->eodhd) (1.2.1)\n",
      "Requirement already satisfied: cycler>=0.10 in c:\\users\\sattu\\desktop\\projects\\nooblyforbes\\venv\\lib\\site-packages (from matplotlib>=3.7.2->eodhd) (0.12.1)\n",
      "Requirement already satisfied: fonttools>=4.22.0 in c:\\users\\sattu\\desktop\\projects\\nooblyforbes\\venv\\lib\\site-packages (from matplotlib>=3.7.2->eodhd) (4.53.1)\n",
      "Requirement already satisfied: kiwisolver>=1.3.1 in c:\\users\\sattu\\desktop\\projects\\nooblyforbes\\venv\\lib\\site-packages (from matplotlib>=3.7.2->eodhd) (1.4.5)\n",
      "Requirement already satisfied: packaging>=20.0 in c:\\users\\sattu\\desktop\\projects\\nooblyforbes\\venv\\lib\\site-packages (from matplotlib>=3.7.2->eodhd) (24.1)\n",
      "Requirement already satisfied: pillow>=8 in c:\\users\\sattu\\desktop\\projects\\nooblyforbes\\venv\\lib\\site-packages (from matplotlib>=3.7.2->eodhd) (10.4.0)\n",
      "Requirement already satisfied: pyparsing>=2.3.1 in c:\\users\\sattu\\desktop\\projects\\nooblyforbes\\venv\\lib\\site-packages (from matplotlib>=3.7.2->eodhd) (3.1.4)\n",
      "Requirement already satisfied: python-dateutil>=2.7 in c:\\users\\sattu\\desktop\\projects\\nooblyforbes\\venv\\lib\\site-packages (from matplotlib>=3.7.2->eodhd) (2.9.0.post0)\n",
      "Requirement already satisfied: pytz>=2020.1 in c:\\users\\sattu\\desktop\\projects\\nooblyforbes\\venv\\lib\\site-packages (from pandas>=2.1.0->eodhd) (2024.1)\n",
      "Requirement already satisfied: tzdata>=2022.7 in c:\\users\\sattu\\desktop\\projects\\nooblyforbes\\venv\\lib\\site-packages (from pandas>=2.1.0->eodhd) (2024.1)\n",
      "Requirement already satisfied: charset-normalizer<4,>=2 in c:\\users\\sattu\\desktop\\projects\\nooblyforbes\\venv\\lib\\site-packages (from requests>=2.31.0->eodhd) (3.3.2)\n",
      "Requirement already satisfied: idna<4,>=2.5 in c:\\users\\sattu\\desktop\\projects\\nooblyforbes\\venv\\lib\\site-packages (from requests>=2.31.0->eodhd) (3.10)\n",
      "Requirement already satisfied: urllib3<3,>=1.21.1 in c:\\users\\sattu\\desktop\\projects\\nooblyforbes\\venv\\lib\\site-packages (from requests>=2.31.0->eodhd) (2.2.3)\n",
      "Requirement already satisfied: certifi>=2017.4.17 in c:\\users\\sattu\\desktop\\projects\\nooblyforbes\\venv\\lib\\site-packages (from requests>=2.31.0->eodhd) (2024.8.30)\n",
      "Requirement already satisfied: markdown-it-py>=2.2.0 in c:\\users\\sattu\\desktop\\projects\\nooblyforbes\\venv\\lib\\site-packages (from rich>=13.5.2->eodhd) (3.0.0)\n",
      "Requirement already satisfied: pygments<3.0.0,>=2.13.0 in c:\\users\\sattu\\desktop\\projects\\nooblyforbes\\venv\\lib\\site-packages (from rich>=13.5.2->eodhd) (2.18.0)\n",
      "Requirement already satisfied: mdurl~=0.1 in c:\\users\\sattu\\desktop\\projects\\nooblyforbes\\venv\\lib\\site-packages (from markdown-it-py>=2.2.0->rich>=13.5.2->eodhd) (0.1.2)\n",
      "Requirement already satisfied: six>=1.5 in c:\\users\\sattu\\desktop\\projects\\nooblyforbes\\venv\\lib\\site-packages (from python-dateutil>=2.7->matplotlib>=3.7.2->eodhd) (1.16.0)\n",
      "Installing collected packages: websocket-client, eodhd\n",
      "Successfully installed eodhd-1.0.31 websocket-client-1.8.0\n"
     ]
    },
    {
     "name": "stderr",
     "output_type": "stream",
     "text": [
      "\n",
      "[notice] A new release of pip available: 22.3 -> 24.3.1\n",
      "[notice] To update, run: python.exe -m pip install --upgrade pip\n"
     ]
    }
   ],
   "source": [
    "!pip install eodhd -U\n",
    "\n"
   ]
  },
  {
   "cell_type": "code",
   "execution_count": 3,
   "metadata": {},
   "outputs": [
    {
     "name": "stdout",
     "output_type": "stream",
     "text": [
      "[{'warning': 'Data is limited by one year as you have free subscription'}]\n"
     ]
    }
   ],
   "source": [
    "from eodhd import APIClient\n",
    "import pandas as pd\n",
    "api = APIClient(\"673116f7318a55.21466143\")\n",
    "resp = api.get_eod_historical_stock_market_data(symbol = 'AAPL.MX', period='d', from_date = '2023-01-01', to_date = '2023-01-15', order='a')\n",
    "print(resp)"
   ]
  },
  {
   "cell_type": "code",
   "execution_count": null,
   "metadata": {},
   "outputs": [],
   "source": [
    "import requests\n",
    "API_KEY = W4LAI7Dz9X6Aucq2jg7rolLqctfHqmZJ\n",
    "STOCK_NAMES = [\n",
    "    \"RELIANCE.NS\", \"TCS.NS\", \"HDFCBANK.NS\", \"BHARTIARTL.NS\", \"ICICIBANK.NS\", \n",
    "    \"INFY.NS\", \"HINDUNILVR.NS\", \"SBIN.NS\", \"ITC.NS\", \"LICI.NS\"\n",
    "]\n",
    "def fetch_quarterly_eps_and_book_value(symbol):\n",
    "    # Fetch quarterly EPS and book value\n",
    "    url = f'https://financialmodelingprep.com/api/v3/income-statement/{symbol}?period=quarter&limit=1&apikey={API_KEY}'\n",
    "    income_data = requests.get(url).json()\n",
    "    \n",
    "    url = f'https://financialmodelingprep.com/api/v3/balance-sheet-statement/{symbol}?period=quarter&limit=1&apikey={API_KEY}'\n",
    "    balance_data = requests.get(url).json()\n",
    "    \n",
    "    latest_eps = income_data[0][\"eps\"] if income_data else None\n",
    "    latest_book_value = balance_data[0][\"bookValuePerShare\"] if balance_data else None\n",
    "    \n",
    "    return latest_eps, latest_book_value\n",
    "\n",
    "# Fetch quarterly EPS and book value for each stock symbol\n",
    "eps_values = []\n",
    "book_values = []\n",
    "for symbol in stock_symbols:\n",
    "    eps, book_value = fetch_quarterly_eps_and_book_value(symbol)\n",
    "    eps_values.append(eps)\n",
    "    book_values.append(book_value)\n",
    "\n",
    "# Update P/E and P/B ratios in the DataFrame\n",
    "data['EPS'] = eps_values\n",
    "data['Book Value'] = book_values\n",
    "data['P/E Ratio'] = data['Close'] / data['EPS']\n",
    "data['P/B Ratio'] = data['Close'] / data['Book Value']\n",
    "\n"
   ]
  },
  {
   "cell_type": "code",
   "execution_count": 5,
   "metadata": {},
   "outputs": [
    {
     "name": "stdout",
     "output_type": "stream",
     "text": [
      "{'Error Message': 'Free plan is limited to US stocks only please visit our subscription page to upgrade your plan at https://site.financialmodelingprep.com/developer/docs/pricing'}\n"
     ]
    }
   ],
   "source": [
    "import requests\n",
    "url = f'https://financialmodelingprep.com/api/v3/income-statement/TCS.NS?period=anuual&limit=3&apikey=W4LAI7Dz9X6Aucq2jg7rolLqctfHqmZJ'\n",
    "income_data = requests.get(url).json()\n",
    "print(income_data)"
   ]
  }
 ],
 "metadata": {
  "kernelspec": {
   "display_name": "venv",
   "language": "python",
   "name": "python3"
  },
  "language_info": {
   "codemirror_mode": {
    "name": "ipython",
    "version": 3
   },
   "file_extension": ".py",
   "mimetype": "text/x-python",
   "name": "python",
   "nbconvert_exporter": "python",
   "pygments_lexer": "ipython3",
   "version": "3.11.0"
  }
 },
 "nbformat": 4,
 "nbformat_minor": 2
}
