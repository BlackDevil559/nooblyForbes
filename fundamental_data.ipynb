{
 "cells": [
  {
   "cell_type": "code",
   "execution_count": 1,
   "metadata": {},
   "outputs": [],
   "source": [
    "import yfinance as yf\n",
    "import pandas as pd\n",
    "from datetime import datetime, timedelta\n"
   ]
  },
  {
   "cell_type": "code",
   "execution_count": 32,
   "metadata": {},
   "outputs": [],
   "source": [
    "\n",
    "stock_symbols = [\n",
    "    \"RELIANCE.NS\", \"TCS.NS\", \"HDFCBANK.NS\", \"BHARTIARTL.NS\", \"ICICIBANK.NS\", \n",
    "    \"INFY.NS\", \"HINDUNILVR.NS\", \"SBIN.NS\", \"ITC.NS\", \"LICI.NS\"\n",
    "]\n",
    "\n",
    "# stock_symbols = [\"HDFCBANK.NS\"]\n"
   ]
  },
  {
   "cell_type": "code",
   "execution_count": 7,
   "metadata": {},
   "outputs": [],
   "source": [
    "end_date = datetime.now()\n",
    "start_date = end_date - timedelta(days=3*365)"
   ]
  },
  {
   "cell_type": "code",
   "execution_count": 31,
   "metadata": {},
   "outputs": [
    {
     "name": "stdout",
     "output_type": "stream",
     "text": [
      "Book Value of TCS:  632.437\n",
      "632.437\n"
     ]
    }
   ],
   "source": [
    "import json\n",
    "\n",
    "book_value_tcs = yf.Ticker(stock_symbols[0]).info[\"bookValue\"]\n",
    "print(\"Book Value of TCS: \", book_value_tcs)\n",
    "# Print the book value information in a formatted way\n",
    "print(json.dumps(book_value_tcs, indent=4))"
   ]
  },
  {
   "cell_type": "code",
   "execution_count": null,
   "metadata": {},
   "outputs": [],
   "source": []
  },
  {
   "cell_type": "code",
   "execution_count": 33,
   "metadata": {},
   "outputs": [
    {
     "name": "stdout",
     "output_type": "stream",
     "text": [
      "Data for RELIANCE.NS saved to RELIANCE.NS_financial_data.csv\n",
      "Data for TCS.NS saved to TCS.NS_financial_data.csv\n",
      "Data for HDFCBANK.NS saved to HDFCBANK.NS_financial_data.csv\n",
      "Data for BHARTIARTL.NS saved to BHARTIARTL.NS_financial_data.csv\n",
      "Data for ICICIBANK.NS saved to ICICIBANK.NS_financial_data.csv\n",
      "Data for INFY.NS saved to INFY.NS_financial_data.csv\n",
      "Data for HINDUNILVR.NS saved to HINDUNILVR.NS_financial_data.csv\n",
      "Data for SBIN.NS saved to SBIN.NS_financial_data.csv\n",
      "Data for ITC.NS saved to ITC.NS_financial_data.csv\n",
      "Data for LICI.NS saved to LICI.NS_financial_data.csv\n"
     ]
    }
   ],
   "source": [
    "def fetch_stock_data(symbol):\n",
    "    # Fetch historical data\n",
    "    stock = yf.Ticker(symbol)\n",
    "    data = stock.history(start=start_date.strftime('%Y-%m-%d'), end=end_date.strftime('%Y-%m-%d'))\n",
    "\n",
    "    # Add additional fields\n",
    "    data['Symbol'] = symbol\n",
    "    data['EPS'] = stock.info.get('trailingEps', None)\n",
    "    data['Book Value'] = stock.info.get('bookValue', None)\n",
    "\n",
    "    # Calculate P/E and P/B ratios if EPS and Book Value are available\n",
    "    data['P/E Ratio'] = data['Close'] / data['EPS'] if data['EPS'] is not None else None\n",
    "    data['P/B Ratio'] = data['Close'] / data['Book Value'] if data['Book Value'] is not None else None\n",
    "\n",
    "    # Select and rename columns\n",
    "    data = data[['Symbol', 'Open', 'High', 'Low', 'Close', 'Volume', 'P/E Ratio', 'P/B Ratio']]\n",
    "    data.columns = ['Symbol', 'Opening Price', 'Highest Price', 'Lowest Price', 'Closing Price', 'Volume of Trade', 'P/E Ratio', 'P/B Ratio']\n",
    "\n",
    "    # Save to CSV\n",
    "    csv_filename = f\"{symbol}_financial_data.csv\"\n",
    "    data.to_csv(csv_filename)\n",
    "    print(f\"Data for {symbol} saved to {csv_filename}\")\n",
    "\n",
    "# Fetch data for each stock symbol\n",
    "for symbol in stock_symbols:\n",
    "    fetch_stock_data(symbol)"
   ]
  },
  {
   "cell_type": "code",
   "execution_count": null,
   "metadata": {},
   "outputs": [],
   "source": []
  },
  {
   "cell_type": "code",
   "execution_count": null,
   "metadata": {},
   "outputs": [],
   "source": []
  }
 ],
 "metadata": {
  "kernelspec": {
   "display_name": "venv",
   "language": "python",
   "name": "python3"
  },
  "language_info": {
   "codemirror_mode": {
    "name": "ipython",
    "version": 3
   },
   "file_extension": ".py",
   "mimetype": "text/x-python",
   "name": "python",
   "nbconvert_exporter": "python",
   "pygments_lexer": "ipython3",
   "version": "3.11.0"
  }
 },
 "nbformat": 4,
 "nbformat_minor": 2
}
